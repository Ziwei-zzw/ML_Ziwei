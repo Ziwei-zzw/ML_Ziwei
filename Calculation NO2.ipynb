{
 "metadata": {
  "language_info": {
   "codemirror_mode": {
    "name": "ipython",
    "version": 3
   },
   "file_extension": ".py",
   "mimetype": "text/x-python",
   "name": "python",
   "nbconvert_exporter": "python",
   "pygments_lexer": "ipython3",
   "version": "3.7.4-final"
  },
  "orig_nbformat": 2,
  "kernelspec": {
   "name": "python3",
   "display_name": "Python 3.7.4 64-bit",
   "metadata": {
    "interpreter": {
     "hash": "9090bfcacedef8f825d7b5c04d28d3513de4ed12b02494859f6f88a4e6ab166b"
    }
   }
  }
 },
 "nbformat": 4,
 "nbformat_minor": 2,
 "cells": [
  {
   "cell_type": "code",
   "execution_count": 1,
   "metadata": {},
   "outputs": [],
   "source": [
    "#import standard lib\n",
    "import pandas as pd\n",
    "import numpy as np\n",
    "from datetime import datetime\n",
    "import re\n",
    "import matplotlib.pylab as plt\n",
    "from math import sqrt\n",
    "import os\n",
    "import seaborn as sns\n",
    "\n",
    "from matplotlib.pyplot import rcParams \n",
    "rcParams['figure.figsize']=15,6 \n",
    "\n",
    "# preprocessing and split\n",
    "from sklearn.preprocessing import MinMaxScaler\n",
    "from sklearn.model_selection import train_test_split\n",
    "\n",
    "# import models\n",
    "import xgboost as xgb\n",
    "from sklearn.model_selection import cross_val_score,KFold\n",
    "from sklearn.model_selection import GridSearchCV\n",
    "#Error metrics\n",
    "from sklearn.metrics import mean_squared_error, r2_score"
   ]
  },
  {
   "cell_type": "code",
   "execution_count": 2,
   "metadata": {},
   "outputs": [
    {
     "output_type": "stream",
     "name": "stdout",
     "text": [
      "        vehiclecount            timestamp  node  co_2_esp  co_op1  co_op2  \\\n0             1999.0  2020-02-19 00:00:10    12      2030    6206    5416   \n1             1999.0  2020-02-19 00:00:40    12      2004    6205    5401   \n2             2000.0  2020-02-19 00:01:10    12      1972    6213    5390   \n3             2001.0  2020-02-19 00:01:40    12      2030    6247    5403   \n4             2002.0  2020-02-19 00:02:10    12      2158    6305    5391   \n...              ...                  ...   ...       ...     ...     ...   \n521396           NaN  2020-11-06 23:57:39    12      2074    6382    5234   \n521397           NaN  2020-11-06 23:58:09    12      2025    6384    5253   \n521398           NaN  2020-11-06 23:58:39    12      1962    6447    5256   \n521399           NaN  2020-11-06 23:59:09    12      2230    6345    5234   \n521400           NaN  2020-11-06 23:59:39    12      1684    6396    5289   \n\n        counter_arduino  counter_esp  ir_brightness  lrvehiclecount  ...  \\\n0                   948          678            254           777.0  ...   \n1                   949          679            254           777.0  ...   \n2                   950          680            254           777.0  ...   \n3                   951          681            254           777.0  ...   \n4                   952          682            253           778.0  ...   \n...                 ...          ...            ...             ...  ...   \n521396            98675         1064            254             NaN  ...   \n521397            98676         1065            253             NaN  ...   \n521398            98677         1066            254             NaN  ...   \n521399            98678         1067            253             NaN  ...   \n521400            98679         1068            253             NaN  ...   \n\n        rainticks  temperature_bme280  temperature_esp  temperature_opc  \\\n0             0.0                4.68             6.46          9.13795   \n1             0.0                4.68             6.56          9.16347   \n2             0.0                4.70             6.67          9.16347   \n3             0.0                4.69             6.69          9.20501   \n4             0.0                4.67             6.74          9.20501   \n...           ...                 ...              ...              ...   \n521396        0.0                4.86             7.40          9.87971   \n521397        0.0                4.86             7.48          9.87971   \n521398        0.0                4.87             7.57          9.86012   \n521399        0.0                4.76             7.68          9.86012   \n521400        0.0                4.65             7.52          9.86250   \n\n        volumeindex  winddir  windspeed  vehiclecountdiff  timediff  \\\n0                 0      315   2.906330               0.0  00:00:30   \n1                 0      225   6.977020               0.0  00:00:30   \n2                 0      270   1.595100               1.0  00:00:30   \n3                 0      225   2.003860               1.0  00:00:30   \n4                 0      338   4.810530               1.0  00:00:30   \n...             ...      ...        ...               ...       ...   \n521396            0      270   2.575780               NaN  00:00:30   \n521397            0      293   0.808837               NaN  00:00:30   \n521398            0      315   1.603630               NaN  00:00:30   \n521399            0      315   4.286840               NaN  00:00:30   \n521400            0      315   5.394670               NaN  00:00:30   \n\n        trafficperminute  \n0                    0.0  \n1                    0.0  \n2                    2.0  \n3                    2.0  \n4                    2.0  \n...                  ...  \n521396               NaN  \n521397               NaN  \n521398               NaN  \n521399               NaN  \n521400               NaN  \n\n[521401 rows x 40 columns]\n"
     ]
    }
   ],
   "source": [
    "df = pd.read_csv('c:/Users/ThinkPad/Desktop/rohdaten_v4.csv',float_precision='round_trip')\n",
    "\n",
    "\n",
    "#d1=d[d['timestamp'].str.contains((r'2020-05-14'))]\n",
    "\n",
    "#d1=df['2020-05-01':'2020-06-15']\n",
    "\n",
    "#d1.to_csv('05.csv')\n",
    "print(df)\n"
   ]
  },
  {
   "cell_type": "code",
   "execution_count": 3,
   "metadata": {},
   "outputs": [
    {
     "output_type": "stream",
     "name": "stdout",
     "text": [
      "<class 'pandas.core.frame.DataFrame'>\nRangeIndex: 521401 entries, 0 to 521400\nData columns (total 40 columns):\n #   Column              Non-Null Count   Dtype  \n---  ------              --------------   -----  \n 0   vehiclecount        346327 non-null  float64\n 1   timestamp           521401 non-null  object \n 2   node                521401 non-null  int64  \n 3   co_2_esp            521401 non-null  int64  \n 4   co_op1              521401 non-null  int64  \n 5   co_op2              521401 non-null  int64  \n 6   counter_arduino     521401 non-null  int64  \n 7   counter_esp         521401 non-null  int64  \n 8   ir_brightness       521401 non-null  int64  \n 9   lrvehiclecount      346327 non-null  float64\n 10  no_2_op1            521401 non-null  int64  \n 11  no_2_op2            521401 non-null  int64  \n 12  o_3_op1             521401 non-null  int64  \n 13  o_3_op2             521401 non-null  int64  \n 14  pm1                 520883 non-null  float64\n 15  pm10                520883 non-null  float64\n 16  pm2_5               520883 non-null  float64\n 17  rlvehiclecount      346327 non-null  float64\n 18  tvoc_esp            521401 non-null  int64  \n 19  uv_index            521401 non-null  float64\n 20  v_in                521401 non-null  float64\n 21  brightness          521401 non-null  int64  \n 22  brightness_esp      521401 non-null  float64\n 23  humidity_bme280     521344 non-null  float64\n 24  humidity_esp        521401 non-null  float64\n 25  humidity_opc        521401 non-null  float64\n 26  peek_to_peek        521401 non-null  int64  \n 27  preassure_bme280    521401 non-null  float64\n 28  preassure_esp       521401 non-null  float64\n 29  rainlasthour        521401 non-null  float64\n 30  rainticks           521401 non-null  float64\n 31  temperature_bme280  521398 non-null  float64\n 32  temperature_esp     521401 non-null  float64\n 33  temperature_opc     521401 non-null  float64\n 34  volumeindex         521401 non-null  int64  \n 35  winddir             521401 non-null  int64  \n 36  windspeed           520010 non-null  float64\n 37  vehiclecountdiff    346267 non-null  float64\n 38  timediff            521401 non-null  object \n 39  trafficperminute    346267 non-null  float64\ndtypes: float64(22), int64(16), object(2)\nmemory usage: 159.1+ MB\n"
     ]
    }
   ],
   "source": [
    "df.info()"
   ]
  },
  {
   "cell_type": "code",
   "execution_count": 4,
   "metadata": {},
   "outputs": [
    {
     "output_type": "execute_result",
     "data": {
      "text/plain": [
       "                     no_2_op1  no_2_op2  temperature_opc             datetime\n",
       "timestamp                                                                    \n",
       "2020-02-19 00:00:10      3815      3748          9.13795  2020-02-19 00:00:10\n",
       "2020-02-19 00:00:40      3808      3736          9.16347  2020-02-19 00:00:40\n",
       "2020-02-19 00:01:10      3814      3743          9.16347  2020-02-19 00:01:10\n",
       "2020-02-19 00:01:40      3795      3740          9.20501  2020-02-19 00:01:40\n",
       "2020-02-19 00:02:10      3820      3739          9.20501  2020-02-19 00:02:10"
      ],
      "text/html": "<div>\n<style scoped>\n    .dataframe tbody tr th:only-of-type {\n        vertical-align: middle;\n    }\n\n    .dataframe tbody tr th {\n        vertical-align: top;\n    }\n\n    .dataframe thead th {\n        text-align: right;\n    }\n</style>\n<table border=\"1\" class=\"dataframe\">\n  <thead>\n    <tr style=\"text-align: right;\">\n      <th></th>\n      <th>no_2_op1</th>\n      <th>no_2_op2</th>\n      <th>temperature_opc</th>\n      <th>datetime</th>\n    </tr>\n    <tr>\n      <th>timestamp</th>\n      <th></th>\n      <th></th>\n      <th></th>\n      <th></th>\n    </tr>\n  </thead>\n  <tbody>\n    <tr>\n      <th>2020-02-19 00:00:10</th>\n      <td>3815</td>\n      <td>3748</td>\n      <td>9.13795</td>\n      <td>2020-02-19 00:00:10</td>\n    </tr>\n    <tr>\n      <th>2020-02-19 00:00:40</th>\n      <td>3808</td>\n      <td>3736</td>\n      <td>9.16347</td>\n      <td>2020-02-19 00:00:40</td>\n    </tr>\n    <tr>\n      <th>2020-02-19 00:01:10</th>\n      <td>3814</td>\n      <td>3743</td>\n      <td>9.16347</td>\n      <td>2020-02-19 00:01:10</td>\n    </tr>\n    <tr>\n      <th>2020-02-19 00:01:40</th>\n      <td>3795</td>\n      <td>3740</td>\n      <td>9.20501</td>\n      <td>2020-02-19 00:01:40</td>\n    </tr>\n    <tr>\n      <th>2020-02-19 00:02:10</th>\n      <td>3820</td>\n      <td>3739</td>\n      <td>9.20501</td>\n      <td>2020-02-19 00:02:10</td>\n    </tr>\n  </tbody>\n</table>\n</div>"
     },
     "metadata": {},
     "execution_count": 4
    }
   ],
   "source": [
    "import missingno as msno\n",
    "import datetime\n",
    "\n",
    "\n",
    "data=df[[\"no_2_op1\",\"no_2_op2\",\"temperature_opc\",'timestamp']]\n",
    "data['datetime'] =data['timestamp']\n",
    "data['timestamp'] = pd.to_datetime(data['timestamp'])\n",
    "data = data.set_index('timestamp') \n",
    "data.head()"
   ]
  },
  {
   "cell_type": "code",
   "execution_count": 6,
   "metadata": {},
   "outputs": [
    {
     "output_type": "execute_result",
     "data": {
      "text/plain": [
       "                     no_2_op1  no_2_op2  temperature_opc             datetime  \\\n",
       "timestamp                                                                       \n",
       "2020-02-19 00:00:10  238.4375  234.2500          9.13795  2020-02-19 00:00:10   \n",
       "2020-02-19 00:00:40  238.0000  233.5000          9.16347  2020-02-19 00:00:40   \n",
       "2020-02-19 00:01:10  238.3750  233.9375          9.16347  2020-02-19 00:01:10   \n",
       "2020-02-19 00:01:40  237.1875  233.7500          9.20501  2020-02-19 00:01:40   \n",
       "2020-02-19 00:02:10  238.7500  233.6875          9.20501  2020-02-19 00:02:10   \n",
       "\n",
       "                           nT    nTSens  \n",
       "timestamp                                \n",
       "2020-02-19 00:00:10  1.025861  0.924828  \n",
       "2020-02-19 00:00:40  1.025096  0.924981  \n",
       "2020-02-19 00:01:10  1.025096  0.924981  \n",
       "2020-02-19 00:01:40  1.023850  0.925230  \n",
       "2020-02-19 00:02:10  1.023850  0.925230  "
      ],
      "text/html": "<div>\n<style scoped>\n    .dataframe tbody tr th:only-of-type {\n        vertical-align: middle;\n    }\n\n    .dataframe tbody tr th {\n        vertical-align: top;\n    }\n\n    .dataframe thead th {\n        text-align: right;\n    }\n</style>\n<table border=\"1\" class=\"dataframe\">\n  <thead>\n    <tr style=\"text-align: right;\">\n      <th></th>\n      <th>no_2_op1</th>\n      <th>no_2_op2</th>\n      <th>temperature_opc</th>\n      <th>datetime</th>\n      <th>nT</th>\n      <th>nTSens</th>\n    </tr>\n    <tr>\n      <th>timestamp</th>\n      <th></th>\n      <th></th>\n      <th></th>\n      <th></th>\n      <th></th>\n      <th></th>\n    </tr>\n  </thead>\n  <tbody>\n    <tr>\n      <th>2020-02-19 00:00:10</th>\n      <td>238.4375</td>\n      <td>234.2500</td>\n      <td>9.13795</td>\n      <td>2020-02-19 00:00:10</td>\n      <td>1.025861</td>\n      <td>0.924828</td>\n    </tr>\n    <tr>\n      <th>2020-02-19 00:00:40</th>\n      <td>238.0000</td>\n      <td>233.5000</td>\n      <td>9.16347</td>\n      <td>2020-02-19 00:00:40</td>\n      <td>1.025096</td>\n      <td>0.924981</td>\n    </tr>\n    <tr>\n      <th>2020-02-19 00:01:10</th>\n      <td>238.3750</td>\n      <td>233.9375</td>\n      <td>9.16347</td>\n      <td>2020-02-19 00:01:10</td>\n      <td>1.025096</td>\n      <td>0.924981</td>\n    </tr>\n    <tr>\n      <th>2020-02-19 00:01:40</th>\n      <td>237.1875</td>\n      <td>233.7500</td>\n      <td>9.20501</td>\n      <td>2020-02-19 00:01:40</td>\n      <td>1.023850</td>\n      <td>0.925230</td>\n    </tr>\n    <tr>\n      <th>2020-02-19 00:02:10</th>\n      <td>238.7500</td>\n      <td>233.6875</td>\n      <td>9.20501</td>\n      <td>2020-02-19 00:02:10</td>\n      <td>1.023850</td>\n      <td>0.925230</td>\n    </tr>\n  </tbody>\n</table>\n</div>"
     },
     "metadata": {},
     "execution_count": 6
    }
   ],
   "source": [
    "data.no_2_op1 = data.no_2_op1*(2048.0 / 32768.0)\n",
    "data.no_2_op2= data.no_2_op2*(2048.0 / 32768.0)\n",
    "def nT(temp):\n",
    "    if (temp < 0):\n",
    "        nTa=1.3\n",
    "    else:\n",
    "        if (temp < 10):\n",
    "            nTa=1.3 - 0.03*temp\n",
    "        else:\n",
    "            if (temp < 20):\n",
    "                nTa=1.0 - 0.04*(temp - 10)\n",
    "            else:\n",
    "                if (temp < 30):\n",
    "                    nTa=0.6 - 0.02*(temp - 20)\n",
    "                else:\n",
    "                    if (temp < 40):\n",
    "                        nTa=0.4 - 0.02*(temp - 30)\n",
    "                    else:\n",
    "                        if (temp < 50):\n",
    "                            nTa=0.2 - 0.17*(temp - 40)\n",
    "                        else:\n",
    "                            nTa=- 1.5\n",
    "    \n",
    "    return nTa\n",
    "\n",
    "def nTSens(temp):\n",
    "    if (temp < - 30):\n",
    "        nTa=101\n",
    "    else:\n",
    "        if (temp < - 20):\n",
    "            nTa=101 - 1.2*(temp + 30)\n",
    "        else:\n",
    "            if (temp < - 10):\n",
    "                nTa=89 - 0.6*(temp + 20)\n",
    "            else:\n",
    "                if (temp < 0):\n",
    "                    nTa=83 + 0.4*(temp + 10)\n",
    "                else:\n",
    "                    if (temp < 10):\n",
    "                        nTa=87 + 0.6*temp\n",
    "                    else:\n",
    "                        if (temp < 20):\n",
    "                            nTa=93 + 0.7*(temp - 10)\n",
    "                        else:\n",
    "                            if (temp < 30):\n",
    "                                nTa=100 + 0.5*(temp - 20)\n",
    "                            else:\n",
    "                                if (temp < 40):\n",
    "                                    nTa=105 + 0.3*(temp - 30)\n",
    "                                else:\n",
    "                                    if (temp < 50):\n",
    "                                        nTa=108 + 0.3*(temp - 40)\n",
    "                                    else:\n",
    "                                        nTa=111\n",
    "    nTa=nTa / 100.0\n",
    "    return nTa\n",
    "    \n",
    "s=data.temperature_opc\n",
    "data['nT']=s.apply(lambda x=None: nT(x))\n",
    "data['nTSens']=s.apply(lambda x=None: nTSens(x))\n",
    "data.head()   "
   ]
  },
  {
   "cell_type": "code",
   "execution_count": 7,
   "metadata": {},
   "outputs": [
    {
     "output_type": "execute_result",
     "data": {
      "text/plain": [
       "                     no_2_op1  no_2_op2  temperature_opc             datetime  \\\n",
       "timestamp                                                                       \n",
       "2020-02-19 00:00:10    0.4375   -0.7500          9.13795  2020-02-19 00:00:10   \n",
       "2020-02-19 00:00:40    0.0000   -1.5000          9.16347  2020-02-19 00:00:40   \n",
       "2020-02-19 00:01:10    0.3750   -1.0625          9.16347  2020-02-19 00:01:10   \n",
       "2020-02-19 00:01:40   -0.8125   -1.2500          9.20501  2020-02-19 00:01:40   \n",
       "2020-02-19 00:02:10    0.7500   -1.3125          9.20501  2020-02-19 00:02:10   \n",
       "\n",
       "                           nT    nTSens   no2_ppb        no2  \n",
       "timestamp                                                     \n",
       "2020-02-19 00:00:10  1.025861  0.924828  4.611292   8.807568  \n",
       "2020-02-19 00:00:40  1.025096  0.924981  5.874036  11.219408  \n",
       "2020-02-19 00:01:10  1.025096  0.924981  5.593333  10.683266  \n",
       "2020-02-19 00:01:40  1.023850  0.925230  1.784723   3.408821  \n",
       "2020-02-19 00:02:10  1.023850  0.925230  7.996494  15.273303  "
      ],
      "text/html": "<div>\n<style scoped>\n    .dataframe tbody tr th:only-of-type {\n        vertical-align: middle;\n    }\n\n    .dataframe tbody tr th {\n        vertical-align: top;\n    }\n\n    .dataframe thead th {\n        text-align: right;\n    }\n</style>\n<table border=\"1\" class=\"dataframe\">\n  <thead>\n    <tr style=\"text-align: right;\">\n      <th></th>\n      <th>no_2_op1</th>\n      <th>no_2_op2</th>\n      <th>temperature_opc</th>\n      <th>datetime</th>\n      <th>nT</th>\n      <th>nTSens</th>\n      <th>no2_ppb</th>\n      <th>no2</th>\n    </tr>\n    <tr>\n      <th>timestamp</th>\n      <th></th>\n      <th></th>\n      <th></th>\n      <th></th>\n      <th></th>\n      <th></th>\n      <th></th>\n      <th></th>\n    </tr>\n  </thead>\n  <tbody>\n    <tr>\n      <th>2020-02-19 00:00:10</th>\n      <td>0.4375</td>\n      <td>-0.7500</td>\n      <td>9.13795</td>\n      <td>2020-02-19 00:00:10</td>\n      <td>1.025861</td>\n      <td>0.924828</td>\n      <td>4.611292</td>\n      <td>8.807568</td>\n    </tr>\n    <tr>\n      <th>2020-02-19 00:00:40</th>\n      <td>0.0000</td>\n      <td>-1.5000</td>\n      <td>9.16347</td>\n      <td>2020-02-19 00:00:40</td>\n      <td>1.025096</td>\n      <td>0.924981</td>\n      <td>5.874036</td>\n      <td>11.219408</td>\n    </tr>\n    <tr>\n      <th>2020-02-19 00:01:10</th>\n      <td>0.3750</td>\n      <td>-1.0625</td>\n      <td>9.16347</td>\n      <td>2020-02-19 00:01:10</td>\n      <td>1.025096</td>\n      <td>0.924981</td>\n      <td>5.593333</td>\n      <td>10.683266</td>\n    </tr>\n    <tr>\n      <th>2020-02-19 00:01:40</th>\n      <td>-0.8125</td>\n      <td>-1.2500</td>\n      <td>9.20501</td>\n      <td>2020-02-19 00:01:40</td>\n      <td>1.023850</td>\n      <td>0.925230</td>\n      <td>1.784723</td>\n      <td>3.408821</td>\n    </tr>\n    <tr>\n      <th>2020-02-19 00:02:10</th>\n      <td>0.7500</td>\n      <td>-1.3125</td>\n      <td>9.20501</td>\n      <td>2020-02-19 00:02:10</td>\n      <td>1.023850</td>\n      <td>0.925230</td>\n      <td>7.996494</td>\n      <td>15.273303</td>\n    </tr>\n  </tbody>\n</table>\n</div>"
     },
     "metadata": {},
     "execution_count": 7
    }
   ],
   "source": [
    "data.no_2_op1=data.no_2_op1-238\n",
    "data.no_2_op2=data.no_2_op2-235\n",
    "sens_cert=0.283\n",
    "factor=1.91\n",
    "data['no2_ppb']=(data.no_2_op1-data.nT*data.no_2_op2)/(data['nTSens']*sens_cert)\n",
    "data['no2']=(data.no_2_op1-data.nT*data.no_2_op2)/(data['nTSens']*sens_cert)*factor\n",
    "data.head()\n",
    "\n",
    "                        "
   ]
  },
  {
   "cell_type": "code",
   "execution_count": 10,
   "metadata": {},
   "outputs": [],
   "source": [
    "no2=data[['no2']]\n",
    "no2[no2<0]= np.int(0)"
   ]
  },
  {
   "cell_type": "code",
   "execution_count": 11,
   "metadata": {},
   "outputs": [],
   "source": [
    "no2.to_csv(\"no2.csv\",float_format='%.3f')"
   ]
  },
  {
   "cell_type": "code",
   "execution_count": 12,
   "metadata": {},
   "outputs": [
    {
     "output_type": "execute_result",
     "data": {
      "text/plain": [
       "                           no2\n",
       "timestamp                     \n",
       "2020-02-19 00:00:10   8.807568\n",
       "2020-02-19 00:00:40  11.219408\n",
       "2020-02-19 00:01:10  10.683266\n",
       "2020-02-19 00:01:40   3.408821\n",
       "2020-02-19 00:02:10  15.273303"
      ],
      "text/html": "<div>\n<style scoped>\n    .dataframe tbody tr th:only-of-type {\n        vertical-align: middle;\n    }\n\n    .dataframe tbody tr th {\n        vertical-align: top;\n    }\n\n    .dataframe thead th {\n        text-align: right;\n    }\n</style>\n<table border=\"1\" class=\"dataframe\">\n  <thead>\n    <tr style=\"text-align: right;\">\n      <th></th>\n      <th>no2</th>\n    </tr>\n    <tr>\n      <th>timestamp</th>\n      <th></th>\n    </tr>\n  </thead>\n  <tbody>\n    <tr>\n      <th>2020-02-19 00:00:10</th>\n      <td>8.807568</td>\n    </tr>\n    <tr>\n      <th>2020-02-19 00:00:40</th>\n      <td>11.219408</td>\n    </tr>\n    <tr>\n      <th>2020-02-19 00:01:10</th>\n      <td>10.683266</td>\n    </tr>\n    <tr>\n      <th>2020-02-19 00:01:40</th>\n      <td>3.408821</td>\n    </tr>\n    <tr>\n      <th>2020-02-19 00:02:10</th>\n      <td>15.273303</td>\n    </tr>\n  </tbody>\n</table>\n</div>"
     },
     "metadata": {},
     "execution_count": 12
    }
   ],
   "source": [
    "no2.head()"
   ]
  },
  {
   "cell_type": "code",
   "execution_count": 15,
   "metadata": {},
   "outputs": [],
   "source": [
    "mean_1h=no2.resample('60min').mean()\n",
    "mean_1h['no2']=mean_1h\n",
    "mean_1h.head()\n",
    "mean_1h.to_csv(\"no2_mean_1h.csv\",float_format='%.3f')"
   ]
  },
  {
   "cell_type": "code",
   "execution_count": null,
   "metadata": {},
   "outputs": [],
   "source": []
  }
 ]
}